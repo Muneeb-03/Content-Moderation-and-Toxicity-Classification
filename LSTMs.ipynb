{
  "nbformat": 4,
  "nbformat_minor": 0,
  "metadata": {
    "colab": {
      "provenance": [],
      "gpuType": "V100"
    },
    "kernelspec": {
      "name": "python3",
      "display_name": "Python 3"
    },
    "language_info": {
      "name": "python"
    },
    "accelerator": "GPU"
  },
  "cells": [
    {
      "cell_type": "markdown",
      "source": [
        "# Content Moderation and Toxicity Classification using LSTMs\n",
        "\n",
        "After exploring the hybrid approach with SGD and Naive Bayes, our next effort in the **Jigsaw Toxic Comment Classification Dataset** involves implementing Long Short-Term Memory (LSTM) networks, a type of recurrent neural network (RNN).\n",
        "\n",
        "**LSTM:** It is well-suited for sequence prediction tasks, where context plays a crucial role in understanding the meaning. LSTMs excel at capturing long-term dependencies, allowing them to remember information for extended periods. This makes them ideal for analysing the sequential nature of text data, capturing the nuances and dependencies in the language that are critical for effective toxicity classification."
      ],
      "metadata": {
        "id": "IK9Cw6X_r8Wm"
      }
    },
    {
      "cell_type": "markdown",
      "source": [
        "**Imports**"
      ],
      "metadata": {
        "id": "QUAmTylIvt6S"
      }
    },
    {
      "cell_type": "code",
      "source": [
        "import pandas as pd\n",
        "import numpy as np\n",
        "from sklearn.feature_extraction.text import TfidfVectorizer\n",
        "from tqdm import tqdm\n",
        "import matplotlib.pyplot as plt\n",
        "from sklearn.metrics import accuracy_score\n",
        "import tensorflow as tf\n",
        "import nltk\n",
        "nltk.download('stopwords')\n",
        "import inflect\n",
        "import re\n",
        "import torch\n",
        "import string\n",
        "\n",
        "!pip install contractions\n",
        "import contractions\n",
        "from nltk.corpus import stopwords\n",
        "from sklearn.model_selection import train_test_split\n",
        "from sklearn.metrics import accuracy_score\n",
        "from sklearn.metrics import confusion_matrix\n",
        "from sklearn.metrics import classification_report, hamming_loss\n",
        "from tensorflow.keras.layers import TextVectorization, LSTM, Dropout, Embedding, Dense, Bidirectional,Input\n",
        "from tensorflow.keras.models import Sequential\n",
        "from tensorflow.keras.metrics import Precision, CategoricalAccuracy, Recall"
      ],
      "metadata": {
        "colab": {
          "base_uri": "https://localhost:8080/"
        },
        "id": "SLMrDd-TvtRU",
        "outputId": "f1d599e8-8d9e-46c4-f399-8c22cd0559f5"
      },
      "execution_count": 223,
      "outputs": [
        {
          "output_type": "stream",
          "name": "stderr",
          "text": [
            "[nltk_data] Downloading package stopwords to /root/nltk_data...\n",
            "[nltk_data]   Package stopwords is already up-to-date!\n"
          ]
        },
        {
          "output_type": "stream",
          "name": "stdout",
          "text": [
            "Requirement already satisfied: contractions in /usr/local/lib/python3.10/dist-packages (0.1.73)\n",
            "Requirement already satisfied: textsearch>=0.0.21 in /usr/local/lib/python3.10/dist-packages (from contractions) (0.0.24)\n",
            "Requirement already satisfied: anyascii in /usr/local/lib/python3.10/dist-packages (from textsearch>=0.0.21->contractions) (0.3.2)\n",
            "Requirement already satisfied: pyahocorasick in /usr/local/lib/python3.10/dist-packages (from textsearch>=0.0.21->contractions) (2.0.0)\n"
          ]
        }
      ]
    },
    {
      "cell_type": "markdown",
      "source": [
        "# Preparing Data\n",
        "\n",
        "**1. Loading dataset**\n",
        "\n",
        "We begin by loading the dataset. This dataset will then be used for training and testing. It includes user-generated comments with labels indicating various types of toxicity.\n"
      ],
      "metadata": {
        "id": "3gEEe16awGzG"
      }
    },
    {
      "cell_type": "code",
      "source": [
        "data = pd.read_csv('/content/drive/MyDrive/ML Proj/Dataset/Train/train.csv')\n",
        "\n",
        "data = data.drop(columns = ['id'])\n",
        "\n",
        "data.head()"
      ],
      "metadata": {
        "colab": {
          "base_uri": "https://localhost:8080/",
          "height": 206
        },
        "id": "h-eRfMsLwOQQ",
        "outputId": "40e85782-5b2f-479d-eac4-191b72039dcd"
      },
      "execution_count": 153,
      "outputs": [
        {
          "output_type": "execute_result",
          "data": {
            "text/plain": [
              "                                        comment_text  toxic  severe_toxic  \\\n",
              "0  Explanation\\nWhy the edits made under my usern...      0             0   \n",
              "1  D'aww! He matches this background colour I'm s...      0             0   \n",
              "2  Hey man, I'm really not trying to edit war. It...      0             0   \n",
              "3  \"\\nMore\\nI can't make any real suggestions on ...      0             0   \n",
              "4  You, sir, are my hero. Any chance you remember...      0             0   \n",
              "\n",
              "   obscene  threat  insult  identity_hate  \n",
              "0        0       0       0              0  \n",
              "1        0       0       0              0  \n",
              "2        0       0       0              0  \n",
              "3        0       0       0              0  \n",
              "4        0       0       0              0  "
            ],
            "text/html": [
              "\n",
              "  <div id=\"df-7c79c2b3-8fd2-41d0-a2ac-40c6a699054f\" class=\"colab-df-container\">\n",
              "    <div>\n",
              "<style scoped>\n",
              "    .dataframe tbody tr th:only-of-type {\n",
              "        vertical-align: middle;\n",
              "    }\n",
              "\n",
              "    .dataframe tbody tr th {\n",
              "        vertical-align: top;\n",
              "    }\n",
              "\n",
              "    .dataframe thead th {\n",
              "        text-align: right;\n",
              "    }\n",
              "</style>\n",
              "<table border=\"1\" class=\"dataframe\">\n",
              "  <thead>\n",
              "    <tr style=\"text-align: right;\">\n",
              "      <th></th>\n",
              "      <th>comment_text</th>\n",
              "      <th>toxic</th>\n",
              "      <th>severe_toxic</th>\n",
              "      <th>obscene</th>\n",
              "      <th>threat</th>\n",
              "      <th>insult</th>\n",
              "      <th>identity_hate</th>\n",
              "    </tr>\n",
              "  </thead>\n",
              "  <tbody>\n",
              "    <tr>\n",
              "      <th>0</th>\n",
              "      <td>Explanation\\nWhy the edits made under my usern...</td>\n",
              "      <td>0</td>\n",
              "      <td>0</td>\n",
              "      <td>0</td>\n",
              "      <td>0</td>\n",
              "      <td>0</td>\n",
              "      <td>0</td>\n",
              "    </tr>\n",
              "    <tr>\n",
              "      <th>1</th>\n",
              "      <td>D'aww! He matches this background colour I'm s...</td>\n",
              "      <td>0</td>\n",
              "      <td>0</td>\n",
              "      <td>0</td>\n",
              "      <td>0</td>\n",
              "      <td>0</td>\n",
              "      <td>0</td>\n",
              "    </tr>\n",
              "    <tr>\n",
              "      <th>2</th>\n",
              "      <td>Hey man, I'm really not trying to edit war. It...</td>\n",
              "      <td>0</td>\n",
              "      <td>0</td>\n",
              "      <td>0</td>\n",
              "      <td>0</td>\n",
              "      <td>0</td>\n",
              "      <td>0</td>\n",
              "    </tr>\n",
              "    <tr>\n",
              "      <th>3</th>\n",
              "      <td>\"\\nMore\\nI can't make any real suggestions on ...</td>\n",
              "      <td>0</td>\n",
              "      <td>0</td>\n",
              "      <td>0</td>\n",
              "      <td>0</td>\n",
              "      <td>0</td>\n",
              "      <td>0</td>\n",
              "    </tr>\n",
              "    <tr>\n",
              "      <th>4</th>\n",
              "      <td>You, sir, are my hero. Any chance you remember...</td>\n",
              "      <td>0</td>\n",
              "      <td>0</td>\n",
              "      <td>0</td>\n",
              "      <td>0</td>\n",
              "      <td>0</td>\n",
              "      <td>0</td>\n",
              "    </tr>\n",
              "  </tbody>\n",
              "</table>\n",
              "</div>\n",
              "    <div class=\"colab-df-buttons\">\n",
              "\n",
              "  <div class=\"colab-df-container\">\n",
              "    <button class=\"colab-df-convert\" onclick=\"convertToInteractive('df-7c79c2b3-8fd2-41d0-a2ac-40c6a699054f')\"\n",
              "            title=\"Convert this dataframe to an interactive table.\"\n",
              "            style=\"display:none;\">\n",
              "\n",
              "  <svg xmlns=\"http://www.w3.org/2000/svg\" height=\"24px\" viewBox=\"0 -960 960 960\">\n",
              "    <path d=\"M120-120v-720h720v720H120Zm60-500h600v-160H180v160Zm220 220h160v-160H400v160Zm0 220h160v-160H400v160ZM180-400h160v-160H180v160Zm440 0h160v-160H620v160ZM180-180h160v-160H180v160Zm440 0h160v-160H620v160Z\"/>\n",
              "  </svg>\n",
              "    </button>\n",
              "\n",
              "  <style>\n",
              "    .colab-df-container {\n",
              "      display:flex;\n",
              "      gap: 12px;\n",
              "    }\n",
              "\n",
              "    .colab-df-convert {\n",
              "      background-color: #E8F0FE;\n",
              "      border: none;\n",
              "      border-radius: 50%;\n",
              "      cursor: pointer;\n",
              "      display: none;\n",
              "      fill: #1967D2;\n",
              "      height: 32px;\n",
              "      padding: 0 0 0 0;\n",
              "      width: 32px;\n",
              "    }\n",
              "\n",
              "    .colab-df-convert:hover {\n",
              "      background-color: #E2EBFA;\n",
              "      box-shadow: 0px 1px 2px rgba(60, 64, 67, 0.3), 0px 1px 3px 1px rgba(60, 64, 67, 0.15);\n",
              "      fill: #174EA6;\n",
              "    }\n",
              "\n",
              "    .colab-df-buttons div {\n",
              "      margin-bottom: 4px;\n",
              "    }\n",
              "\n",
              "    [theme=dark] .colab-df-convert {\n",
              "      background-color: #3B4455;\n",
              "      fill: #D2E3FC;\n",
              "    }\n",
              "\n",
              "    [theme=dark] .colab-df-convert:hover {\n",
              "      background-color: #434B5C;\n",
              "      box-shadow: 0px 1px 3px 1px rgba(0, 0, 0, 0.15);\n",
              "      filter: drop-shadow(0px 1px 2px rgba(0, 0, 0, 0.3));\n",
              "      fill: #FFFFFF;\n",
              "    }\n",
              "  </style>\n",
              "\n",
              "    <script>\n",
              "      const buttonEl =\n",
              "        document.querySelector('#df-7c79c2b3-8fd2-41d0-a2ac-40c6a699054f button.colab-df-convert');\n",
              "      buttonEl.style.display =\n",
              "        google.colab.kernel.accessAllowed ? 'block' : 'none';\n",
              "\n",
              "      async function convertToInteractive(key) {\n",
              "        const element = document.querySelector('#df-7c79c2b3-8fd2-41d0-a2ac-40c6a699054f');\n",
              "        const dataTable =\n",
              "          await google.colab.kernel.invokeFunction('convertToInteractive',\n",
              "                                                    [key], {});\n",
              "        if (!dataTable) return;\n",
              "\n",
              "        const docLinkHtml = 'Like what you see? Visit the ' +\n",
              "          '<a target=\"_blank\" href=https://colab.research.google.com/notebooks/data_table.ipynb>data table notebook</a>'\n",
              "          + ' to learn more about interactive tables.';\n",
              "        element.innerHTML = '';\n",
              "        dataTable['output_type'] = 'display_data';\n",
              "        await google.colab.output.renderOutput(dataTable, element);\n",
              "        const docLink = document.createElement('div');\n",
              "        docLink.innerHTML = docLinkHtml;\n",
              "        element.appendChild(docLink);\n",
              "      }\n",
              "    </script>\n",
              "  </div>\n",
              "\n",
              "\n",
              "<div id=\"df-194a8efe-b68a-4f50-b5e2-76ec3f0a6433\">\n",
              "  <button class=\"colab-df-quickchart\" onclick=\"quickchart('df-194a8efe-b68a-4f50-b5e2-76ec3f0a6433')\"\n",
              "            title=\"Suggest charts\"\n",
              "            style=\"display:none;\">\n",
              "\n",
              "<svg xmlns=\"http://www.w3.org/2000/svg\" height=\"24px\"viewBox=\"0 0 24 24\"\n",
              "     width=\"24px\">\n",
              "    <g>\n",
              "        <path d=\"M19 3H5c-1.1 0-2 .9-2 2v14c0 1.1.9 2 2 2h14c1.1 0 2-.9 2-2V5c0-1.1-.9-2-2-2zM9 17H7v-7h2v7zm4 0h-2V7h2v10zm4 0h-2v-4h2v4z\"/>\n",
              "    </g>\n",
              "</svg>\n",
              "  </button>\n",
              "\n",
              "<style>\n",
              "  .colab-df-quickchart {\n",
              "      --bg-color: #E8F0FE;\n",
              "      --fill-color: #1967D2;\n",
              "      --hover-bg-color: #E2EBFA;\n",
              "      --hover-fill-color: #174EA6;\n",
              "      --disabled-fill-color: #AAA;\n",
              "      --disabled-bg-color: #DDD;\n",
              "  }\n",
              "\n",
              "  [theme=dark] .colab-df-quickchart {\n",
              "      --bg-color: #3B4455;\n",
              "      --fill-color: #D2E3FC;\n",
              "      --hover-bg-color: #434B5C;\n",
              "      --hover-fill-color: #FFFFFF;\n",
              "      --disabled-bg-color: #3B4455;\n",
              "      --disabled-fill-color: #666;\n",
              "  }\n",
              "\n",
              "  .colab-df-quickchart {\n",
              "    background-color: var(--bg-color);\n",
              "    border: none;\n",
              "    border-radius: 50%;\n",
              "    cursor: pointer;\n",
              "    display: none;\n",
              "    fill: var(--fill-color);\n",
              "    height: 32px;\n",
              "    padding: 0;\n",
              "    width: 32px;\n",
              "  }\n",
              "\n",
              "  .colab-df-quickchart:hover {\n",
              "    background-color: var(--hover-bg-color);\n",
              "    box-shadow: 0 1px 2px rgba(60, 64, 67, 0.3), 0 1px 3px 1px rgba(60, 64, 67, 0.15);\n",
              "    fill: var(--button-hover-fill-color);\n",
              "  }\n",
              "\n",
              "  .colab-df-quickchart-complete:disabled,\n",
              "  .colab-df-quickchart-complete:disabled:hover {\n",
              "    background-color: var(--disabled-bg-color);\n",
              "    fill: var(--disabled-fill-color);\n",
              "    box-shadow: none;\n",
              "  }\n",
              "\n",
              "  .colab-df-spinner {\n",
              "    border: 2px solid var(--fill-color);\n",
              "    border-color: transparent;\n",
              "    border-bottom-color: var(--fill-color);\n",
              "    animation:\n",
              "      spin 1s steps(1) infinite;\n",
              "  }\n",
              "\n",
              "  @keyframes spin {\n",
              "    0% {\n",
              "      border-color: transparent;\n",
              "      border-bottom-color: var(--fill-color);\n",
              "      border-left-color: var(--fill-color);\n",
              "    }\n",
              "    20% {\n",
              "      border-color: transparent;\n",
              "      border-left-color: var(--fill-color);\n",
              "      border-top-color: var(--fill-color);\n",
              "    }\n",
              "    30% {\n",
              "      border-color: transparent;\n",
              "      border-left-color: var(--fill-color);\n",
              "      border-top-color: var(--fill-color);\n",
              "      border-right-color: var(--fill-color);\n",
              "    }\n",
              "    40% {\n",
              "      border-color: transparent;\n",
              "      border-right-color: var(--fill-color);\n",
              "      border-top-color: var(--fill-color);\n",
              "    }\n",
              "    60% {\n",
              "      border-color: transparent;\n",
              "      border-right-color: var(--fill-color);\n",
              "    }\n",
              "    80% {\n",
              "      border-color: transparent;\n",
              "      border-right-color: var(--fill-color);\n",
              "      border-bottom-color: var(--fill-color);\n",
              "    }\n",
              "    90% {\n",
              "      border-color: transparent;\n",
              "      border-bottom-color: var(--fill-color);\n",
              "    }\n",
              "  }\n",
              "</style>\n",
              "\n",
              "  <script>\n",
              "    async function quickchart(key) {\n",
              "      const quickchartButtonEl =\n",
              "        document.querySelector('#' + key + ' button');\n",
              "      quickchartButtonEl.disabled = true;  // To prevent multiple clicks.\n",
              "      quickchartButtonEl.classList.add('colab-df-spinner');\n",
              "      try {\n",
              "        const charts = await google.colab.kernel.invokeFunction(\n",
              "            'suggestCharts', [key], {});\n",
              "      } catch (error) {\n",
              "        console.error('Error during call to suggestCharts:', error);\n",
              "      }\n",
              "      quickchartButtonEl.classList.remove('colab-df-spinner');\n",
              "      quickchartButtonEl.classList.add('colab-df-quickchart-complete');\n",
              "    }\n",
              "    (() => {\n",
              "      let quickchartButtonEl =\n",
              "        document.querySelector('#df-194a8efe-b68a-4f50-b5e2-76ec3f0a6433 button');\n",
              "      quickchartButtonEl.style.display =\n",
              "        google.colab.kernel.accessAllowed ? 'block' : 'none';\n",
              "    })();\n",
              "  </script>\n",
              "</div>\n",
              "\n",
              "    </div>\n",
              "  </div>\n"
            ]
          },
          "metadata": {},
          "execution_count": 153
        }
      ]
    },
    {
      "cell_type": "markdown",
      "source": [
        "**2. Analyzing Label Distribution in the Dataset**\n",
        "\n",
        "The cell output indicates the distribution of labels in the dataset. It shows the total count of each label within the dataset, providing a clear indication of class imbalance, with 'toxic' being the most common label and 'threat' being the least common. This imbalance can affect the performance of machine learning models, as they tend to be better at detecting the majority class while struggling with minority classes.\n",
        "\n",
        "Models trained on this dataset may develop a bias towards more frequently occurring labels, which can lead to **higher precision and recall** for those labels as compared to less frequent ones."
      ],
      "metadata": {
        "id": "5XbciHZfwa0f"
      }
    },
    {
      "cell_type": "code",
      "source": [
        "labels = ['toxic', 'severe_toxic', 'obscene', 'threat', 'insult', 'identity_hate']\n",
        "\n",
        "label_count = data.iloc[:,1:].sum()\n",
        "\n",
        "plt.bar(labels,label_count)\n",
        "plt.title('Label Distribution')\n",
        "plt.xlabel('Label')\n",
        "plt.ylabel('Count')\n",
        "plt.show()"
      ],
      "metadata": {
        "colab": {
          "base_uri": "https://localhost:8080/",
          "height": 472
        },
        "id": "2QAkh7U8wcR-",
        "outputId": "c8c06c5c-a78e-48c9-f04f-2672fe4f606b"
      },
      "execution_count": 154,
      "outputs": [
        {
          "output_type": "display_data",
          "data": {
            "text/plain": [
              "<Figure size 640x480 with 1 Axes>"
            ],
            "image/png": "[encoded data removed]"
          },
          "metadata": {}
        }
      ]
    },
    {
      "cell_type": "markdown",
      "source": [
        "**3. Pre-processing of comments**\n",
        "\n",
        "This function preprocess the text data from the Jigsaw Toxic Comment Classification Dataset.\n",
        "\n",
        "\n",
        "*   **Removing Non-ASCII characters:** Removes non-ASCII characters to simplify text, and focus on English language words\n",
        "*   **Expanding Contractions:** Replaces contraction like \"can't\" to \"can not\" for clarity and to mantain consistency\n",
        "*   **Removing URLs:** Removes URLs starting with 'https', 'www'\n",
        "*   **Removing Punctuations:** Remove punctuation marks from the comments as mostly they are irrelevant for the classifcation problem\n",
        "*   **Removing Numbers:** Removes numbers as they aren't relevant in this classification problem\n",
        "*   **Removing Stop Words:** Filters out stop words like \"is\", \"the\" and etc. These words occur frequently and offer little value for analysis\n",
        "\n",
        "By performing these pre-processing steps, we create a cleaner and more standardized dataset that can help improve the performance of our classification models. Each step is aimed at reducing the complexity of the text data, which can lead to more efficient and effective learning by the models we use. This pre-processed data should help the model to focus on the textual patterns most relevant to identifying different forms of toxicity in online comments."
      ],
      "metadata": {
        "id": "LOsgY4-yw72_"
      }
    },
    {
      "cell_type": "code",
      "source": [
        "stop_words = set(stopwords.words('english'))\n",
        "\n",
        "def pre_process_comments(data):\n",
        "    processed_data = []\n",
        "\n",
        "    # for idx in tqdm(range(len(data))):\n",
        "    for idx in range(len(data)):\n",
        "        comment = data[idx]\n",
        "\n",
        "        # removing non-ascii characters\n",
        "        comment = comment.encode('ascii', 'ignore').decode('ascii')\n",
        "\n",
        "        # expanding contractions\n",
        "        comment = contractions.fix(comment)\n",
        "\n",
        "        # removing URLs\n",
        "        comment = re.sub(r'http\\S+|www\\S+|https\\S+', '', comment)\n",
        "\n",
        "        # removing HTML tags\n",
        "        comment = re.sub(r'<[^>]+>', '', comment)\n",
        "\n",
        "        # removing punctuations\n",
        "        comment = comment.translate(str.maketrans('', '', string.punctuation))\n",
        "\n",
        "        # removing numbers\n",
        "        comment = re.sub(r'\\d+', '', comment)\n",
        "\n",
        "        # tokenizing the words\n",
        "        tokens = comment.split()\n",
        "\n",
        "        # removing stop words and numbers\n",
        "        tokens = [word for word in tokens if word not in stop_words]\n",
        "\n",
        "        comment = ' '.join(tokens)\n",
        "\n",
        "        processed_data.append(comment)\n",
        "\n",
        "    return processed_data"
      ],
      "metadata": {
        "id": "h8gBcWG9xjTE"
      },
      "execution_count": 155,
      "outputs": []
    },
    {
      "cell_type": "markdown",
      "source": [
        "# Analysis of Comment Lengths for LSTM Sequence Length Determination\n",
        "\n",
        "In this cell, we look into maximum and minimum length for the comments in our dataset.\n",
        "\n",
        "Our goal is to select a sequence length that captures the essence of most comments without truncating too much information.\n",
        "\n",
        "We notice that a significant number of comments have over 72 characters, setting a sequence length just above this threshold might be a good starting point."
      ],
      "metadata": {
        "id": "AqaJReElx562"
      }
    },
    {
      "cell_type": "code",
      "source": [
        "comment_lengths = []\n",
        "\n",
        "for comment in data['comment_text']:\n",
        "    comment_lengths.append(len(comment))\n",
        "\n",
        "print('Min Comment Length:', min(comment_lengths))\n",
        "print('Max Comment Length:', max(comment_lengths))\n",
        "sum([1 for i in range(len(comment_lengths)) if comment_lengths[i] >= 72])"
      ],
      "metadata": {
        "colab": {
          "base_uri": "https://localhost:8080/"
        },
        "id": "Da6HucBlyDAj",
        "outputId": "6d66e6c3-54a3-47fe-89f9-08799b1d2d0e"
      },
      "execution_count": 156,
      "outputs": [
        {
          "output_type": "stream",
          "name": "stdout",
          "text": [
            "Min Comment Length: 6\n",
            "Max Comment Length: 5000\n"
          ]
        },
        {
          "output_type": "execute_result",
          "data": {
            "text/plain": [
              "130957"
            ]
          },
          "metadata": {},
          "execution_count": 156
        }
      ]
    },
    {
      "cell_type": "markdown",
      "source": [
        "**4. Splitting Data into Training, Validation, and Test Sets (80:10:10)**\n",
        "\n",
        "Proper data splitting is essential for training robust machine learning models, allowing us to assess their performance and generalize to unseen data effectively."
      ],
      "metadata": {
        "id": "Pl4d4VUj095a"
      }
    },
    {
      "cell_type": "code",
      "source": [
        "data_comp = np.asarray(data.iloc[:,0])\n",
        "labels_comp = np.asarray(data.iloc[:,1:])\n",
        "\n",
        "X_train, X_temp, y_train, y_temp = train_test_split(data_comp, labels_comp, test_size=0.2, random_state=42)\n",
        "X_val, X_test, y_val, y_test = train_test_split(X_temp, y_temp, test_size=0.5, random_state=42)\n",
        "\n",
        "print(\"Training data shape:\", X_train.shape)\n",
        "print(\"Training labels shape:\", y_train.shape)\n",
        "print(\"Validation data shape:\", X_val.shape)\n",
        "print(\"Validation labels shape:\", y_val.shape)\n",
        "print(\"Test data shape:\", X_test.shape)\n",
        "print(\"Test labels shape:\", y_test.shape)"
      ],
      "metadata": {
        "colab": {
          "base_uri": "https://localhost:8080/"
        },
        "id": "KToSVW7i06Jf",
        "outputId": "0b1d0fde-c8f1-43d5-9207-87e8ce2b29a5"
      },
      "execution_count": 157,
      "outputs": [
        {
          "output_type": "stream",
          "name": "stdout",
          "text": [
            "Training data shape: (127656,)\n",
            "Training labels shape: (127656, 6)\n",
            "Validation data shape: (15957,)\n",
            "Validation labels shape: (15957, 6)\n",
            "Test data shape: (15958,)\n",
            "Test labels shape: (15958, 6)\n"
          ]
        }
      ]
    },
    {
      "cell_type": "markdown",
      "source": [
        "**4. Tokenization and Vectorization for LSTM**\n",
        "\n",
        "In this cell, we tokenize the dataset, and then vectorize it to make it suitable for processing by a LSTM model. This step is critical to reduce noise and normalize the text data for better model performance.\n",
        "\n",
        "\n",
        "1.   **Pre-processing**: pre_process_comments cleans the text\n",
        "2.   **Tokenization + Vectorization**: we add special tokens for beginning and end of sentence\n",
        "\n",
        "**Tokenization and Vectorization Details:**\n",
        "\n",
        "\n",
        "\n",
        "*   The BERT tokenizer adds special tokens [CLS] at the start and [SEP] at the end of sentence.\n",
        "*   We have set max length to 72 due to time/ memory constraints. It ensures that all tokenized outputs are padded or truncated to a consistent length, which is necessary for batching in the BERT model.\n",
        "\n",
        "\n",
        "By completing these tokenization and vectoriztion steps, we ensure that our dataset is in consistent and numerical format for the LSTM model, which can lead to better understanding and performance on the classification task. This process contributes significantly to the model's ability to accurately predict the various toxicity levels in the Jigsaw Toxic Comment Classification Dataset.\n",
        "\n",
        "Moreover, the fixed sequence length and the comprehensive vocabulary coverage are particularly important for capturing the contextual nuances essential for effective content moderation.\n",
        "\n",
        "\n",
        "\n",
        "\n"
      ],
      "metadata": {
        "id": "vXIQ0M2o1grI"
      }
    },
    {
      "cell_type": "code",
      "source": [
        "def tokenize_data(vectorizer, data, labels, max_length=100):\n",
        "    # Preprocess the data\n",
        "    data = pre_process_comments(data)\n",
        "\n",
        "    # Vectorize the data using the provided TextVectorization layer\n",
        "    vectorized_data = vectorizer(data)\n",
        "\n",
        "    # Ensure the vectorized data has a consistent shape\n",
        "    vectorized_data = tf.keras.preprocessing.sequence.pad_sequences(vectorized_data,\n",
        "                                                                    maxlen=max_length,\n",
        "                                                                    padding='post',\n",
        "                                                                    truncating='post')\n",
        "\n",
        "    # Convert labels to a tensor\n",
        "    labels = tf.convert_to_tensor(labels, dtype=tf.float32)\n",
        "\n",
        "    return vectorized_data, labels\n"
      ],
      "metadata": {
        "id": "18x1Tvg76F8b"
      },
      "execution_count": 158,
      "outputs": []
    },
    {
      "cell_type": "markdown",
      "source": [
        "# Initializing the Vectorizer and LSTM Model for Sequence Classification\n",
        "\n",
        "In this section, we initialize Text Vectorizer and model, setting them up for our multi-label classification problem\n",
        "\n",
        "We've set max tokens to 100000, so that the vectorizer have a vocabulary of the top 100,000 most common words.\n",
        "\n",
        "Next, we construct the LSTM model. The architecture is defined in the subsequent cells.\n",
        "\n",
        "We're now left with the task to fine tune the model on our dataset, where the labels are not mutually exclusive and reflective of real-world conditions where a comment might exhibit multiple forms of toxicity."
      ],
      "metadata": {
        "id": "OAjjs_Qx7GnN"
      }
    },
    {
      "cell_type": "code",
      "source": [
        "from tensorflow.keras.layers import Embedding, LSTM, Dense, Bidirectional\n",
        "from tensorflow.keras.models import Sequential\n",
        "\n",
        "num_labels = 6\n",
        "\n",
        "# vectorizer\n",
        "vectorizer = TextVectorization(max_tokens = 100000, output_sequence_length = 100, output_mode='int')\n",
        "vectorizer.adapt(X_train)\n",
        "\n",
        "# model\n",
        "model = Sequential([\n",
        "    Embedding(100000+1, 32, input_length = 100),\n",
        "    Bidirectional(LSTM(32,activation = 'tanh')),\n",
        "    Dense(128,activation='relu'),\n",
        "    Dense(num_labels,activation = 'sigmoid')\n",
        "])"
      ],
      "metadata": {
        "id": "LDF0GWaW8Oax"
      },
      "execution_count": 159,
      "outputs": []
    },
    {
      "cell_type": "markdown",
      "source": [
        "**Model Architecture**"
      ],
      "metadata": {
        "id": "YWr_MozHGqR3"
      }
    },
    {
      "cell_type": "code",
      "source": [
        "model.summary()"
      ],
      "metadata": {
        "colab": {
          "base_uri": "https://localhost:8080/"
        },
        "id": "bQhnuktl1Q72",
        "outputId": "935a7b55-f564-4b95-bc23-1cb0a345a838"
      },
      "execution_count": 160,
      "outputs": [
        {
          "output_type": "stream",
          "name": "stdout",
          "text": [
            "Model: \"sequential_11\"\n",
            "_________________________________________________________________\n",
            " Layer (type)                Output Shape              Param #   \n",
            "=================================================================\n",
            " embedding_11 (Embedding)    (None, 100, 32)           3200032   \n",
            "                                                                 \n",
            " bidirectional_11 (Bidirect  (None, 64)                16640     \n",
            " ional)                                                          \n",
            "                                                                 \n",
            " dense_22 (Dense)            (None, 128)               8320      \n",
            "                                                                 \n",
            " dense_23 (Dense)            (None, 6)                 774       \n",
            "                                                                 \n",
            "=================================================================\n",
            "Total params: 3225766 (12.31 MB)\n",
            "Trainable params: 3225766 (12.31 MB)\n",
            "Non-trainable params: 0 (0.00 Byte)\n",
            "_________________________________________________________________\n"
          ]
        }
      ]
    },
    {
      "cell_type": "markdown",
      "source": [
        "**Vectorizing the Dataset for BERT Model Input**"
      ],
      "metadata": {
        "id": "WKSHpdBYPdTr"
      }
    },
    {
      "cell_type": "code",
      "source": [
        "# Vectorize the training set\n",
        "train_input, train_labels = tokenize_data(vectorizer, X_train, y_train)\n",
        "\n",
        "# Vectorize the validtaion set\n",
        "val_input, val_labels = tokenize_data(vectorizer, X_val, y_val)\n",
        "\n",
        "# Vectorize the test set\n",
        "test_input, test_labels = tokenize_data(vectorizer, X_test, y_test)"
      ],
      "metadata": {
        "id": "EpOrvsOuPkQK"
      },
      "execution_count": 161,
      "outputs": []
    },
    {
      "cell_type": "markdown",
      "source": [
        "# Creating DataLoaders for Training, Validation, and Testing\n",
        "\n",
        "\n",
        "\n",
        "*   **TensorDataset**\n",
        "\n",
        "    Combines the input features and labels into a single dataset, which simplifies the data handling process. By doing this, we ensure that our input data and labels are aligned and can be easily batched and loaded during model training and evaluation.\n",
        "    \n",
        "*   **DataLoader** is a pytorch utility which allows for efficient batch processing\n",
        "\n",
        "The use of DataLoaders facilitates efficient batch processing, which is particularly important for the fine-tuning phase.\n"
      ],
      "metadata": {
        "id": "tSsumDw9QD0E"
      }
    },
    {
      "cell_type": "code",
      "source": [
        "import tensorflow as tf\n",
        "\n",
        "train_dataset = tf.data.Dataset.from_tensor_slices((train_input, train_labels))\n",
        "val_dataset = tf.data.Dataset.from_tensor_slices((val_input, val_labels))\n",
        "test_dataset = tf.data.Dataset.from_tensor_slices((test_input, test_labels))\n",
        "\n",
        "# Shuffle and batch the datasets\n",
        "BATCH_SIZE = 64\n",
        "\n",
        "train_loader = train_dataset.shuffle(buffer_size=10000).batch(BATCH_SIZE)\n",
        "val_loader = val_dataset.batch(BATCH_SIZE)\n",
        "test_loader = test_dataset.batch(BATCH_SIZE)"
      ],
      "metadata": {
        "id": "5o39dlN_QN6z"
      },
      "execution_count": 162,
      "outputs": []
    },
    {
      "cell_type": "markdown",
      "source": [
        "# Inspecting a Batch of Preprocessed Data from the Training DataLoader\n",
        "\n",
        "In this cell we extract and inspect an individual batch of data from the DataLoader. It details the batch size, the shape of input IDs, and shows an example of the encoded text, its decoded version, attention masks, and labels for one instance."
      ],
      "metadata": {
        "id": "LR6MO_omQhQt"
      }
    },
    {
      "cell_type": "code",
      "source": [
        "Batch = next(iter(train_loader))\n",
        "print('Each Input ids shape :',Batch[0].shape)\n",
        "print('Input ids :\\n',Batch[0][0])\n",
        "input_ids = Batch[0][0].numpy().tolist()\n",
        "vocabulary = vectorizer.get_vocabulary()\n",
        "decoded_text = ' '.join([vocabulary[id] for id in input_ids if id < len(vocabulary)])\n",
        "print('Decoded Input ids :\\n', decoded_text)\n",
        "print('Corresponding Label:',Batch[1][0])"
      ],
      "metadata": {
        "colab": {
          "base_uri": "https://localhost:8080/"
        },
        "id": "XdBs9yJLQm1W",
        "outputId": "8fe6900d-c85d-457f-b469-fc2d665e6e03"
      },
      "execution_count": 163,
      "outputs": [
        {
          "output_type": "stream",
          "name": "stdout",
          "text": [
            "Each Input ids shape : (64, 100)\n",
            "Input ids :\n",
            " tf.Tensor(\n",
            "[  16  967   88   72 1390  158   24    1  306 2865 1953   23   72  180\n",
            "  676  158  659  306   24   46  447   88   72   45   29 2117    0    0\n",
            "    0    0    0    0    0    0    0    0    0    0    0    0    0    0\n",
            "    0    0    0    0    0    0    0    0    0    0    0    0    0    0\n",
            "    0    0    0    0    0    0    0    0    0    0    0    0    0    0\n",
            "    0    0    0    0    0    0    0    0    0    0    0    0    0    0\n",
            "    0    0    0    0    0    0    0    0    0    0    0    0    0    0\n",
            "    0    0], shape=(100,), dtype=int32)\n",
            "Decoded Input ids :\n",
            " on april did know updated fact article [UNK] created substantially expanded if know another interesting fact recently created article please suggest did know talk page chat                                                                          \n",
            "Corresponding Label: tf.Tensor([0. 0. 0. 0. 0. 0.], shape=(6,), dtype=float32)\n"
          ]
        }
      ]
    },
    {
      "cell_type": "markdown",
      "source": [
        "\n",
        "# Calculating the Total Number of Batches in the Training DataLoader\n"
      ],
      "metadata": {
        "id": "41J89QiwT9hD"
      }
    },
    {
      "cell_type": "code",
      "source": [
        "total_samples = len(train_dataset)  # Total number of samples in the dataset\n",
        "batch_size = len(train_loader)  # Batch size used in DataLoader\n",
        "expected_batches = total_samples / batch_size  # Expected number of batches\n",
        "\n",
        "print(f\"Total samples: {total_samples}\")\n",
        "print(f\"Batch size: {batch_size}\")\n",
        "print(f\"Expected number of training batches: {int(expected_batches)}\")"
      ],
      "metadata": {
        "colab": {
          "base_uri": "https://localhost:8080/"
        },
        "id": "0NJhRzRxTwGJ",
        "outputId": "cd22471a-5a3a-45a0-dea8-d7656de12a47"
      },
      "execution_count": 164,
      "outputs": [
        {
          "output_type": "stream",
          "name": "stdout",
          "text": [
            "Total samples: 127656\n",
            "Batch size: 1995\n",
            "Expected number of training batches: 63\n"
          ]
        }
      ]
    },
    {
      "cell_type": "markdown",
      "source": [
        "# Setting Up the Loss Function and Optimizer for LSTM Model Training"
      ],
      "metadata": {
        "id": "-AtFQynoUCk1"
      }
    },
    {
      "cell_type": "markdown",
      "source": [
        "*   **Adam Optimizer:** We chose the Adam optimizer because of its efficiency in handling sparse gradients and adaptability in various learning scenarios.\n",
        "*   **Binary Cross Entropy Loss:** This loss function is ideal for multi-label classification tasks, where each label is independent and not mutually exclusive."
      ],
      "metadata": {
        "id": "hXAzWyBAUJtO"
      }
    },
    {
      "cell_type": "code",
      "source": [
        "import torch as nn\n",
        "from torch.nn import BCEWithLogitsLoss\n",
        "from tensorflow.keras.optimizers import Adam\n",
        "\n",
        "loss_fn = BCEWithLogitsLoss()\n",
        "optimizer = Adam(learning_rate = 0.001)\n",
        "\n",
        "model.compile(optimizer = optimizer, loss = 'BinaryCrossentropy', metrics=['accuracy'])"
      ],
      "metadata": {
        "id": "Ryh7ajcOUIzu"
      },
      "execution_count": 165,
      "outputs": []
    },
    {
      "cell_type": "code",
      "source": [
        "if torch.cuda.is_available():\n",
        "    device = torch.device(\"cuda\")\n",
        "else:\n",
        "    device = torch.device(\"cpu\")"
      ],
      "metadata": {
        "id": "K_a5qdSvUWrp"
      },
      "execution_count": 166,
      "outputs": []
    },
    {
      "cell_type": "markdown",
      "source": [
        "# Training and Validation for Fine-Tuning the LSTM model\n",
        "\n",
        "This cell contains the training and validation loop for fine-tuning the LSTM model on our multi-label classification task. It iterates over the dataset for a set number of epochs, updating the model parameters based on the training data and evaluating the model's performance on the validation data on a regular basis.\n",
        "\n",
        "To balance training Time and model performance, we choose to do **three** iterations only. More epochs can lead to overfitting, especially if the training dataset is like our's - imbalanced. This approach is particularly effective in the exploratory phases of model development, where the goal is to understand the model's behavior and potential rather than fully optimizing its performance."
      ],
      "metadata": {
        "id": "6rdQMpckNB8c"
      }
    },
    {
      "cell_type": "code",
      "source": [
        "def train(model, train_dataset, val_dataset, num_epochs):\n",
        "    history = model.fit(\n",
        "        train_dataset,\n",
        "        epochs=num_epochs,\n",
        "        validation_data=val_dataset,\n",
        "    )\n",
        "    return history\n",
        "\n",
        "\n",
        "history = train(model, train_loader, val_loader, num_epochs = 3)\n",
        "\n",
        "# To access the training and validation losses\n",
        "train_losses = history.history['loss']\n",
        "val_losses = history.history['val_loss']\n",
        "\n",
        "# To access the training and validation accuracies\n",
        "train_accuracies = history.history['accuracy']\n",
        "val_accuracies = history.history['val_accuracy']\n"
      ],
      "metadata": {
        "colab": {
          "base_uri": "https://localhost:8080/"
        },
        "id": "-sL2vSKbWe8E",
        "outputId": "da9496d4-5b94-439e-bf89-d1c4b2370c08"
      },
      "execution_count": 167,
      "outputs": [
        {
          "output_type": "stream",
          "name": "stdout",
          "text": [
            "Epoch 1/3\n",
            "1995/1995 [==============================] - 88s 42ms/step - loss: 0.0723 - accuracy: 0.9855 - val_loss: 0.0503 - val_accuracy: 0.9930\n",
            "Epoch 2/3\n",
            "1995/1995 [==============================] - 34s 17ms/step - loss: 0.0433 - accuracy: 0.9938 - val_loss: 0.0536 - val_accuracy: 0.9930\n",
            "Epoch 3/3\n",
            "1995/1995 [==============================] - 30s 15ms/step - loss: 0.0375 - accuracy: 0.9920 - val_loss: 0.0545 - val_accuracy: 0.9919\n"
          ]
        }
      ]
    },
    {
      "cell_type": "markdown",
      "source": [
        "# Plotting Losses over Epochs\n",
        "\n",
        "In this cell, we visually represnt the training loss of the LSTM model across the epochs.\n",
        "\n",
        "The plot shows a downward trend, indicating that the model's loss is decreasing over time and thus learning from the training data"
      ],
      "metadata": {
        "id": "L4NkgQ1zkZ8q"
      }
    },
    {
      "cell_type": "code",
      "source": [
        "# plot train losses\n",
        "plt.plot(train_losses)\n",
        "plt.title(\"Training Loss\")\n",
        "plt.xlabel(\"Epoch\")\n",
        "plt.ylabel(\"Loss\")\n",
        "plt.show()"
      ],
      "metadata": {
        "colab": {
          "base_uri": "https://localhost:8080/",
          "height": 472
        },
        "id": "-qLz2_0SkdgZ",
        "outputId": "adc46fec-9720-46b4-87e4-9f4a8cac65df"
      },
      "execution_count": 168,
      "outputs": [
        {
          "output_type": "display_data",
          "data": {
            "text/plain": [
              "<Figure size 640x480 with 1 Axes>"
            ],
            "image/png": "[encoded data removed]"
          },
          "metadata": {}
        }
      ]
    },
    {
      "cell_type": "markdown",
      "source": [
        "# Evaluation\n",
        "\n",
        "We're now done with the training part. To evaluate its performace, we will use test data to make predictions, and compare these predictions to the actual labels. It helps in understanding how well the model generalizes to unseen data.\n",
        "The evaluation metrics we will use are:\n",
        "\n",
        "**Accuracy:** To measure how often the model predicts the correct labels across all classes.\n",
        "\n",
        "**Binary Cross Entropy Loss:** To account for the proportion of misclassified labels, which is important in multi-label classification tasks.\n",
        "\n",
        "**Classification Report:** To get detailed insights into the precision, recall, and F1-score for each individual label, which helps us understand the model's strengths and weaknesses for each type of label.."
      ],
      "metadata": {
        "id": "Aoc2-486lF7u"
      }
    },
    {
      "cell_type": "code",
      "source": [
        "y_pred_continuous = model.predict(test_input)\n",
        "y_pred = np.where(y_pred_continuous > 0.5, 1, 0)\n",
        "test_labels = np.array(test_labels)\n",
        "accuracy = accuracy_score(test_labels, y_pred)\n",
        "\n",
        "# Calculate accuracy\n",
        "accuracy = accuracy_score(test_labels, y_pred)\n",
        "print(f\"Accuracy: {accuracy}\")\n",
        "\n",
        "ham_loss = hamming_loss(y_test, y_pred)\n",
        "print(f\"Hamming Loss: {ham_loss}\")\n",
        "\n",
        "# Generate a classification report for detailed metrics\n",
        "class_report = classification_report(test_labels, y_pred, target_names=[\"toxic\", \"severe_toxic\", \"obscene\", \"threat\", \"insult\", \"identity_hate\"], zero_division=0)\n",
        "print(class_report)"
      ],
      "metadata": {
        "colab": {
          "base_uri": "https://localhost:8080/"
        },
        "id": "0a5bsVfxlKSx",
        "outputId": "900e3674-7dd5-4d3c-c12b-08d086abc3f5"
      },
      "execution_count": 169,
      "outputs": [
        {
          "output_type": "stream",
          "name": "stdout",
          "text": [
            "499/499 [==============================] - 3s 4ms/step\n",
            "Accuracy: 0.9162802356184986\n",
            "               precision    recall  f1-score   support\n",
            "\n",
            "        toxic       0.81      0.75      0.78      1520\n",
            " severe_toxic       0.45      0.37      0.41       162\n",
            "      obscene       0.83      0.76      0.79       856\n",
            "       threat       0.00      0.00      0.00        37\n",
            "       insult       0.77      0.63      0.69       808\n",
            "identity_hate       0.25      0.02      0.04       138\n",
            "\n",
            "    micro avg       0.79      0.67      0.73      3521\n",
            "    macro avg       0.52      0.42      0.45      3521\n",
            " weighted avg       0.76      0.67      0.71      3521\n",
            "  samples avg       0.07      0.06      0.06      3521\n",
            "\n"
          ]
        }
      ]
    },
    {
      "cell_type": "code",
      "source": [
        "y_pred_continuous = model.predict(test_input)\n",
        "y_pred = np.where(y_pred_continuous > 0.5, 1, 0)\n",
        "test_labels = np.array(test_labels)\n",
        "accuracy = accuracy_score(test_labels, y_pred)\n",
        "\n",
        "# Calculate accuracy\n",
        "accuracy = accuracy_score(test_labels, y_pred)\n",
        "print(f\"Accuracy: {accuracy}\")\n",
        "\n",
        "ham_loss = hamming_loss(y_test, y_pred)\n",
        "print(f\"Hamming Loss: {ham_loss}\")\n",
        "\n",
        "# Generate a classification report for detailed metrics\n",
        "class_report = classification_report(test_labels, y_pred, target_names=[\"toxic\", \"severe_toxic\", \"obscene\", \"threat\", \"insult\", \"identity_hate\"], zero_division=0)\n",
        "print(class_report)"
      ],
      "metadata": {
        "colab": {
          "base_uri": "https://localhost:8080/"
        },
        "id": "3AGqStLxNqmD",
        "outputId": "e000e304-6bc2-4c92-f5e8-47716eab9c91"
      },
      "execution_count": 224,
      "outputs": [
        {
          "output_type": "stream",
          "name": "stdout",
          "text": [
            "499/499 [==============================] - 2s 5ms/step\n",
            "Accuracy: 0.9162802356184986\n",
            "Hamming Loss: 0.018674019300664244\n",
            "               precision    recall  f1-score   support\n",
            "\n",
            "        toxic       0.81      0.75      0.78      1520\n",
            " severe_toxic       0.45      0.37      0.41       162\n",
            "      obscene       0.83      0.76      0.79       856\n",
            "       threat       0.00      0.00      0.00        37\n",
            "       insult       0.77      0.63      0.69       808\n",
            "identity_hate       0.25      0.02      0.04       138\n",
            "\n",
            "    micro avg       0.79      0.67      0.73      3521\n",
            "    macro avg       0.52      0.42      0.45      3521\n",
            " weighted avg       0.76      0.67      0.71      3521\n",
            "  samples avg       0.07      0.06      0.06      3521\n",
            "\n"
          ]
        }
      ]
    },
    {
      "cell_type": "markdown",
      "source": [
        "**Model Perfomance Analysis:**\n",
        "\n",
        "The model has a overall accuracy of 91.6%, suggesting that the model performs well for the majority of predictions. However, examining the recall values, especially for less represented classes such as 'threat' and 'identity_hate', reveals that the model struggles to identify these rarer cases. While accuracy is a useful indicator, it does not always provide the full picture, especially in an imbalanced dataset. Therefore, we delve deeper into the precision, recall, and F1-scores to gauge the model's performance across individual classes.\n",
        "\n",
        "For toxic comments, f1-score is 0.78, which vows for high precision and recall. Despite, precision of 0.45, severe_toxic label have a very low recall. This suggests that while the model is relatively confident when it identifies a comment as severely toxic, it misses a significant number of such instances. For the obscene class, we see a high precision of 0.83 and fairly good recall of 0.76. Thus, our model seems to perform well in identifying obscene content. The threat class shows a significant issue, with both precision and recall at 0.00. This means the model failed to correctly identify any true positives in this category. This is due to the low number of samples for this class in the dataset. For the other classes the model performs moderately.\n",
        "\n",
        "Low recall values suggests that model is failing to identify a significant portion of the minority classes. This can be attributed to the fact that our dataset is **imbalanced**. This results in minority classes being not adequately learned by the model, leading to more false negatives."
      ],
      "metadata": {
        "id": "6u580sUPwRl2"
      }
    },
    {
      "cell_type": "code",
      "source": [
        "import numpy as np\n",
        "import matplotlib.pyplot as plt\n",
        "import seaborn as sns\n",
        "from sklearn.metrics import multilabel_confusion_matrix\n",
        "\n",
        "# Assuming y_true and y_pred are your true and predicted labels as numpy arrays\n",
        "y_true = test_labels\n",
        "y_pred = np.array(y_pred)\n",
        "\n",
        "# Compute the multilabel confusion matrix\n",
        "confusion_matrices = multilabel_confusion_matrix(y_true, y_pred)\n",
        "\n",
        "# Plotting each confusion matrix\n",
        "fig, axes = plt.subplots(2, 3, figsize=(15, 10))  # Adjust the layout based on your preference\n",
        "fig.suptitle('Confusion Matrices for Each Category')\n",
        "\n",
        "label_names = [\"toxic\", \"severe_toxic\", \"obscene\", \"threat\", \"insult\", \"identity_hate\"]\n",
        "\n",
        "for i, cm in enumerate(confusion_matrices):\n",
        "    ax = axes.flatten()[i]\n",
        "    sns.heatmap(cm, annot=True, fmt='d', ax=ax, cmap='Blues')\n",
        "    ax.set_title(label_names[i])\n",
        "    ax.set_xlabel('Predicted Labels')\n",
        "    ax.set_ylabel('True Labels')\n",
        "\n",
        "# Adjust layout for better visualization\n",
        "plt.tight_layout()\n",
        "plt.show()"
      ],
      "metadata": {
        "colab": {
          "base_uri": "https://localhost:8080/",
          "height": 1000
        },
        "id": "Voea2qCHr-by",
        "outputId": "ad87fb28-820a-4298-83b2-5c0e1c8a3a9c"
      },
      "execution_count": 170,
      "outputs": [
        {
          "output_type": "display_data",
          "data": {
            "text/plain": [
              "<Figure size 1500x1000 with 12 Axes>"
            ],
            "image/png": "[encoded data removed]"
          },
          "metadata": {}
        }
      ]
    },
    {
      "cell_type": "markdown",
      "source": [
        "# Text Classification with the Trained Model\n",
        "\n",
        "In this final section, we will use our trained model to classify new input text. This involves several key steps:\n",
        "\n",
        "\n",
        "\n",
        "1.   Pre-processing the input\n",
        "2.   Transforming text to features (Vectorization)\n",
        "3. Model Prediction\n",
        "4. Interpretation of the output"
      ],
      "metadata": {
        "id": "CqrK8DXxsT2n"
      }
    },
    {
      "cell_type": "code",
      "source": [
        "def predict_input(text, model, vectorizer, threshold=0.5):\n",
        "    # Step 1: Pre-processing the input\n",
        "    preprocessed_text = pre_process_comments([text])  # Assuming pre_process_comments is your custom preprocessing function\n",
        "\n",
        "    # Step 2: Transforming text to features\n",
        "    vectorized_text = vectorizer(preprocessed_text)\n",
        "    vectorized_text = tf.keras.preprocessing.sequence.pad_sequences(vectorized_text, padding='post', maxlen=100)\n",
        "\n",
        "    # Step 3: Model Prediction\n",
        "    prediction_probs = model.predict(vectorized_text)\n",
        "\n",
        "    labels = [\"toxic\", \"severe_toxic\", \"obscene\", \"threat\", \"insult\", \"identity_hate\"]\n",
        "    predicted_labels = [label for label, pred in zip(labels, prediction_probs[0]) if pred > 0.5]\n",
        "\n",
        "    return predicted_labels"
      ],
      "metadata": {
        "id": "s2OFZ7rusaK1"
      },
      "execution_count": 209,
      "outputs": []
    },
    {
      "cell_type": "code",
      "source": [
        "input_text = \"Fat man go eat with your nigga brother\"\n",
        "predicted_labels = predict_input(input_text, model, vectorizer)\n",
        "print(\"Predicted labels:\", predicted_labels)"
      ],
      "metadata": {
        "colab": {
          "base_uri": "https://localhost:8080/"
        },
        "id": "5YOjsZcuuBbj",
        "outputId": "5de08448-4191-4163-ff13-c9b4d3f49600"
      },
      "execution_count": 219,
      "outputs": [
        {
          "output_type": "stream",
          "name": "stdout",
          "text": [
            "1/1 [==============================] - 0s 29ms/step\n",
            "Predicted labels: ['toxic', 'obscene', 'insult']\n"
          ]
        }
      ]
    },
    {
      "cell_type": "code",
      "source": [
        "input_text = \"I'll blow you and the tower with guns\"\n",
        "predicted_labels = predict_input(input_text, model, vectorizer)\n",
        "print(\"Predicted labels:\", predicted_labels)"
      ],
      "metadata": {
        "colab": {
          "base_uri": "https://localhost:8080/"
        },
        "id": "BkCAy39buRBM",
        "outputId": "3548a576-be30-4bf5-f275-dc43e0ec63b3"
      },
      "execution_count": 211,
      "outputs": [
        {
          "output_type": "stream",
          "name": "stdout",
          "text": [
            "1/1 [==============================] - 0s 20ms/step\n",
            "Predicted labels: []\n"
          ]
        }
      ]
    },
    {
      "cell_type": "markdown",
      "source": [
        "This output is as expected. The model is unable to classify 'threat, which is evident from the classification report."
      ],
      "metadata": {
        "id": "B1jadz-WoJ42"
      }
    },
    {
      "cell_type": "code",
      "source": [
        "input_txt = \"i will kill you nigger retard jew fuck ass blast bomb\"\n",
        "predicted_labels = predict_input(input_text, model, vectorizer)\n",
        "print(\"Predicted labels:\", predicted_labels)"
      ],
      "metadata": {
        "colab": {
          "base_uri": "https://localhost:8080/"
        },
        "id": "7jumgtEbBxPC",
        "outputId": "55ce2840-8a33-42fa-951f-4f1c703fa4f8"
      },
      "execution_count": 221,
      "outputs": [
        {
          "output_type": "stream",
          "name": "stdout",
          "text": [
            "1/1 [==============================] - 0s 148ms/step\n",
            "Predicted labels: ['toxic', 'obscene', 'insult']\n"
          ]
        }
      ]
    },
    {
      "cell_type": "markdown",
      "source": [
        "The model is unable to categorise 'identity_hate' as well, even though 'Jew' was present, which is quite common in the dataset."
      ],
      "metadata": {
        "id": "TPjilJA2oh64"
      }
    }
  ]
}